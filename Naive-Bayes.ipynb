{
 "cells": [
  {
   "cell_type": "markdown",
   "metadata": {},
   "source": [
    "Objective:- To find the best model with highest accuracy for Naive Bayes and also find precision, recall ,f1-score and confusion matrix for each madel."
   ]
  },
  {
   "cell_type": "code",
   "execution_count": 4,
   "metadata": {},
   "outputs": [
    {
     "name": "stderr",
     "output_type": "stream",
     "text": [
      "C:\\Users\\pavan\\Anaconda3\\lib\\site-packages\\gensim\\utils.py:1212: UserWarning: detected Windows; aliasing chunkize to chunkize_serial\n",
      "  warnings.warn(\"detected Windows; aliasing chunkize to chunkize_serial\")\n",
      "C:\\Users\\pavan\\Anaconda3\\lib\\site-packages\\sklearn\\cross_validation.py:41: DeprecationWarning: This module was deprecated in version 0.18 in favor of the model_selection module into which all the refactored classes and functions are moved. Also note that the interface of the new CV iterators are different from that of this module. This module will be removed in 0.20.\n",
      "  \"This module will be removed in 0.20.\", DeprecationWarning)\n"
     ]
    }
   ],
   "source": [
    "%matplotlib inline\n",
    "import warnings\n",
    "warnings.filterwarnings(\"ignore\")\n",
    "\n",
    "import sqlite3\n",
    "import pandas as pd\n",
    "import numpy as np\n",
    "import nltk\n",
    "import matplotlib.pyplot as plt\n",
    "import seaborn as sns\n",
    "from sklearn.feature_extraction.text import TfidfTransformer\n",
    "from sklearn.feature_extraction.text import TfidfVectorizer\n",
    "import re, gensim\n",
    "import string\n",
    "from nltk.corpus import stopwords\n",
    "from nltk.stem.wordnet import WordNetLemmatizer\n",
    "from sklearn.feature_extraction.text import CountVectorizer\n",
    "from sklearn.manifold import TSNE\n",
    "from sklearn.preprocessing import StandardScaler\n",
    "from sklearn.decomposition import TruncatedSVD\n",
    "from sklearn.cross_validation import train_test_split\n",
    "from sklearn.metrics import accuracy_score\n",
    "from sklearn.cross_validation import cross_val_score\n",
    "from collections import Counter\n",
    "from sklearn.metrics import accuracy_score\n",
    "from sklearn import cross_validation\n",
    "from sklearn.metrics import classification_report, confusion_matrix\n",
    "from sklearn.naive_bayes import BernoulliNB, MultinomialNB\n",
    "from sklearn.feature_selection import chi2"
   ]
  },
  {
   "cell_type": "code",
   "execution_count": 5,
   "metadata": {},
   "outputs": [],
   "source": [
    "# using the SQLite Table to read data.\n",
    "con = sqlite3.connect('C:\\\\Users\\\\pavan\\\\Desktop\\\\Applied AI course\\\\amazon-food-reviews_dataset\\\\database.sqlite') \n",
    "#filtering only positive and negative reviews i.e. \n",
    "# not taking into consideration those reviews with Score=3\n",
    "filtered_data = pd.read_sql_query(\"\"\" SELECT * FROM Reviews WHERE Score != 3 \"\"\", con) \n",
    "\n",
    "\n",
    "# Give reviews with Score>3 a positive rating, and reviews with a score<3 a negative rating.\n",
    "def partition(x):\n",
    "    if x < 3:\n",
    "        return 'negative'\n",
    "    return 'positive'\n",
    "\n",
    "#changing reviews with score less than 3 to be positive and vice-versa\n",
    "actualScore = filtered_data['Score']\n",
    "positiveNegative = actualScore.map(partition) \n",
    "filtered_data['Score'] = positiveNegative\n"
   ]
  },
  {
   "cell_type": "code",
   "execution_count": 6,
   "metadata": {},
   "outputs": [],
   "source": [
    "#Removes duplicate data from dataset that are repeated.\n",
    "\n",
    "#Sorting data according to ProductId in ascending order\n",
    "sorted_data=filtered_data.sort_values('ProductId', axis=0, ascending=True,\\\n",
    "                                      inplace=False, kind='quicksort',\\\n",
    "                                      na_position='last')\n",
    "#Deduplication of entries\n",
    "final=sorted_data.drop_duplicates(subset={\"UserId\",\"ProfileName\",\"Time\",\"Text\"},\\\n",
    "                                  keep='first', inplace=False)\n",
    "final=final[final.HelpfulnessNumerator<=final.HelpfulnessDenominator]\n"
   ]
  },
  {
   "cell_type": "code",
   "execution_count": 7,
   "metadata": {},
   "outputs": [
    {
     "data": {
      "text/plain": [
       "(364171, 10)"
      ]
     },
     "execution_count": 7,
     "metadata": {},
     "output_type": "execute_result"
    }
   ],
   "source": [
    "#Sorting data on basis of TIME\n",
    "\n",
    "final = final.sort_values(by=['Time'], axis=0)\n",
    "final.shape"
   ]
  },
  {
   "cell_type": "code",
   "execution_count": 8,
   "metadata": {},
   "outputs": [],
   "source": [
    "#Perform text pre-processing\n",
    "\n",
    "\"\"\"\n",
    "This code snippet does text preprocessing\n",
    "\"\"\"\n",
    "def cleanhtml(sentence): #function to clean the html-tags\n",
    "    cleanr = re.compile('<.*?>')\n",
    "    cleantext = re.sub(cleanr, ' ', sentence)\n",
    "    return cleantext\n",
    "def cleanpunc(sentence): #function to clean the word of any punctuation/special characters\n",
    "    cleaned = re.sub(r'[?|!|\\'|\"|#]',r'',sentence)\n",
    "    cleaned = re.sub(r'[.|,|)|(|\\|/]',r' ',cleaned)\n",
    "    return  cleaned\n",
    "stop = set(stopwords.words('english')) \n",
    "sno = nltk.stem.SnowballStemmer('english') #initialising the snowball stemmer\n",
    "final_text = []\n",
    "for index in range(len(final['Text'])):\n",
    "    filtered_sentence=[]\n",
    "    sent=cleanhtml(final['Text'].iloc[index]) # remove HTMl tags\n",
    "    for w in sent.split():\n",
    "        for cleaned_words in cleanpunc(w).split():\n",
    "            if((cleaned_words.isalpha()) & (len(cleaned_words)>2)):\n",
    "                cleaned_words = cleaned_words.lower()\n",
    "                if(cleaned_words not in stop):\n",
    "                    s=(sno.stem(cleaned_words))\n",
    "                    filtered_sentence.append(s)\n",
    "                else:\n",
    "                    continue\n",
    "            else:\n",
    "                continue \n",
    "    str1 = \" \".join(filtered_sentence) #final cleaned string of words\n",
    "    final_text.append(str1)"
   ]
  },
  {
   "cell_type": "code",
   "execution_count": 9,
   "metadata": {},
   "outputs": [
    {
     "name": "stdout",
     "output_type": "stream",
     "text": [
      "(364171,)\n",
      "(364171,)\n"
     ]
    }
   ],
   "source": [
    "amazon_data_text = pd.Series(final_text)\n",
    "amazon_data_label = pd.Series(final['Score'])\n",
    "print(amazon_data_text.shape)\n",
    "print(amazon_data_label.shape)"
   ]
  },
  {
   "cell_type": "code",
   "execution_count": 10,
   "metadata": {},
   "outputs": [],
   "source": [
    "#Spliiting sample data into train_data and test_data\n",
    "x_train, x_test, y_train, y_test = cross_validation.train_test_split(\\\n",
    "                                                                     amazon_data_text,\\\n",
    "                                                                     amazon_data_label,\\\n",
    "                                                                     test_size = 0.25,\\\n",
    "                                                                     random_state=0)\n",
    "                                                                     \n"
   ]
  },
  {
   "cell_type": "code",
   "execution_count": 11,
   "metadata": {},
   "outputs": [
    {
     "name": "stdout",
     "output_type": "stream",
     "text": [
      "Train_data: \n",
      " positive    230354\n",
      "negative     42774\n",
      "Name: Score, dtype: int64\n"
     ]
    }
   ],
   "source": [
    "print(\"Train_data: \\n\", y_train.value_counts())"
   ]
  },
  {
   "cell_type": "code",
   "execution_count": 12,
   "metadata": {},
   "outputs": [
    {
     "name": "stdout",
     "output_type": "stream",
     "text": [
      "Test_data: \n",
      " positive    76707\n",
      "negative    14336\n",
      "Name: Score, dtype: int64\n"
     ]
    }
   ],
   "source": [
    "print(\"Test_data: \\n\", y_test.value_counts())"
   ]
  },
  {
   "cell_type": "code",
   "execution_count": 32,
   "metadata": {},
   "outputs": [
    {
     "data": {
      "text/plain": [
       "(273128, 61712)"
      ]
     },
     "execution_count": 32,
     "metadata": {},
     "output_type": "execute_result"
    }
   ],
   "source": [
    "#Converts train_data from text to vectors by BoW\n",
    "#count_vect = CountVectorizer(analyzer='word') #in scikit-learn\n",
    "bow_text_train_vector = count_vect.fit_transform(x_train)\n",
    "bow_text_train_vector = bow_text_train_vector\n",
    "bow_text_train_vector.shape\n"
   ]
  },
  {
   "cell_type": "code",
   "execution_count": 14,
   "metadata": {},
   "outputs": [
    {
     "name": "stdout",
     "output_type": "stream",
     "text": [
      "chi2's statistics:  [0.37137623 2.92261259 0.18568811 ... 0.18568811 0.18568811 0.18568811]\n",
      "feature probabilities:  [0.54225506 0.08734634 0.66652986 ... 0.66652986 0.66652986 0.66652986]\n"
     ]
    }
   ],
   "source": [
    "#this code shows feautureselection\n",
    "\n",
    "a = chi2(bow_text_train_vector, y_train)\n",
    "print(\"chi2's statistics: \", a[0])\n",
    "print(\"feature probabilities: \", a[1])\n"
   ]
  },
  {
   "cell_type": "code",
   "execution_count": 33,
   "metadata": {},
   "outputs": [
    {
     "name": "stdout",
     "output_type": "stream",
     "text": [
      "(91043, 61712)\n"
     ]
    }
   ],
   "source": [
    "#Converts test_data from text to vectors by BoW\n",
    "\n",
    "bow_text_test_vector = count_vect.transform(x_test)\n",
    "bow_text_test_vector = bow_text_test_vector\n",
    "print(bow_text_test_vector.shape)\n"
   ]
  },
  {
   "cell_type": "code",
   "execution_count": 27,
   "metadata": {},
   "outputs": [
    {
     "name": "stdout",
     "output_type": "stream",
     "text": [
      "The optimal value of alpha is 324.\n"
     ]
    },
    {
     "data": {
      "image/png": "[encoded data removed]",
      "text/plain": [
       "<Figure size 432x288 with 1 Axes>"
      ]
     },
     "metadata": {},
     "output_type": "display_data"
    },
    {
     "name": "stdout",
     "output_type": "stream",
     "text": [
      "the misclassification error for each alpha value is :  [0.157 0.157 0.157 0.157 0.157 0.157 0.157 0.157 0.157 0.157 0.157 0.157\n",
      " 0.157 0.157 0.157 0.157 0.157 0.157 0.157 0.157 0.157 0.157 0.157 0.157\n",
      " 0.157]\n"
     ]
    }
   ],
   "source": [
    "#find lambda for BernoulliNB and plot error\n",
    "# empty list that will hold cv scores\n",
    "cv_scores = []\n",
    "alpha_values = list(range(300,400,4))\n",
    "# perform 10-fold cross validation\n",
    "for al in alpha_values:\n",
    "    nb = BernoulliNB(alpha = al)\n",
    "    scores = cross_val_score(nb, bow_text_train_vector, \n",
    "                             y_train, cv=10, scoring='accuracy')\n",
    "    cv_scores.append(scores.mean())\n",
    "\n",
    "MSE = [1 - x for x in cv_scores]\n",
    "\n",
    "# determining best alpha\n",
    "bow_optimal_alpha = alpha_values[MSE.index(min(MSE))]\n",
    "print('The optimal value of alpha is %d.' % bow_optimal_alpha)\n",
    "\n",
    "# plot misclassification error vs alpha \n",
    "plt.plot(alpha_values, MSE)\n",
    "\n",
    "for xy in zip(alpha_values, np.round(MSE,3)):\n",
    "    plt.annotate('(%s, %s)' % xy, xy=xy, textcoords='data')\n",
    "\n",
    "plt.xlabel('Alpha Values')\n",
    "plt.ylabel('Misclassification Error')\n",
    "plt.show()\n",
    "\n",
    "print(\"the misclassification error for each alpha value is : \", np.round(MSE,3))"
   ]
  },
  {
   "cell_type": "code",
   "execution_count": 34,
   "metadata": {},
   "outputs": [
    {
     "name": "stdout",
     "output_type": "stream",
     "text": [
      "\n",
      "The accuracy of the Naive Bayes classifier for alpha = 324 is 84.251398%\n"
     ]
    },
    {
     "data": {
      "text/plain": [
       "Text(0.5,1,'Confusion Matrix')"
      ]
     },
     "execution_count": 34,
     "metadata": {},
     "output_type": "execute_result"
    },
    {
     "data": {
      "image/png": "[encoded data removed]",
      "text/plain": [
       "<Figure size 432x288 with 2 Axes>"
      ]
     },
     "metadata": {},
     "output_type": "display_data"
    }
   ],
   "source": [
    "#To apply BernoulliNB for above lambda value\n",
    "nb = BernoulliNB(alpha = bow_optimal_alpha)\n",
    "nb.fit(bow_text_train_vector, y_train)\n",
    "pred = nb.predict(bow_text_test_vector)\n",
    "acc = accuracy_score(y_test, pred)*100 #Evaluate accuracy\n",
    "print('\\nThe accuracy of the Naive Bayes classifier for alpha = %d is %f%%' % (bow_optimal_alpha, acc))\n",
    "conf_matrix = confusion_matrix(y_test, pred)\n",
    "confusion_matrix_df = pd.DataFrame(conf_matrix,\n",
    "                                   [\"Negative\", \"Positive\"],\\\n",
    "                                   [\"Negative\", \"Positive\"],\\\n",
    "                                   dtype=int)\n",
    "sns.heatmap(confusion_matrix_df, annot=True, fmt=\"d\")\n",
    "plt.title(\"Confusion Matrix\")"
   ]
  },
  {
   "cell_type": "code",
   "execution_count": 35,
   "metadata": {},
   "outputs": [
    {
     "name": "stdout",
     "output_type": "stream",
     "text": [
      "             precision    recall  f1-score   support\n",
      "\n",
      "   negative       0.00      0.00      0.00     14336\n",
      "   positive       0.84      1.00      0.91     76707\n",
      "\n",
      "avg / total       0.71      0.84      0.77     91043\n",
      "\n"
     ]
    }
   ],
   "source": [
    "#To show precision. recall, f1 and support vectors for BernoulliNB\n",
    "\n",
    "print(classification_report(y_test, pred, target_names = np.unique(y_test)))"
   ]
  },
  {
   "cell_type": "code",
   "execution_count": 36,
   "metadata": {},
   "outputs": [
    {
     "name": "stdout",
     "output_type": "stream",
     "text": [
      "The optimal value of alpha is 480.\n"
     ]
    },
    {
     "data": {
      "image/png": "[encoded data removed]",
      "text/plain": [
       "<Figure size 432x288 with 1 Axes>"
      ]
     },
     "metadata": {},
     "output_type": "display_data"
    },
    {
     "name": "stdout",
     "output_type": "stream",
     "text": [
      "the misclassification error for each alpha value is :  [0.157 0.157 0.157 0.157 0.157 0.157 0.157 0.157 0.157 0.157 0.157 0.157\n",
      " 0.157 0.157 0.157 0.157 0.157 0.157 0.157 0.157 0.157 0.157 0.157 0.157\n",
      " 0.157]\n"
     ]
    }
   ],
   "source": [
    "#find lambda for MultinomialNB and plot error\n",
    "# empty list that will hold cv scores\n",
    "cv_scores = []\n",
    "alpha_values = list(range(400,500,4))\n",
    "# perform 10-fold cross validation\n",
    "for al in alpha_values:\n",
    "    nb = MultinomialNB(alpha = al)\n",
    "    scores = cross_val_score(nb, bow_text_train_vector, \n",
    "                             y_train, cv=10, scoring='accuracy')\n",
    "    cv_scores.append(scores.mean())\n",
    "\n",
    "MSE = [1 - x for x in cv_scores]\n",
    "\n",
    "# determining best alpha\n",
    "bow_optimal_alpha = alpha_values[MSE.index(min(MSE))]\n",
    "print('The optimal value of alpha is %d.' % bow_optimal_alpha)\n",
    "\n",
    "# plot misclassification error vs alpha \n",
    "plt.plot(alpha_values, MSE)\n",
    "\n",
    "for xy in zip(alpha_values, np.round(MSE,3)):\n",
    "    plt.annotate('(%s, %s)' % xy, xy=xy, textcoords='data')\n",
    "\n",
    "plt.xlabel('Alpha Values')\n",
    "plt.ylabel('Misclassification Error')\n",
    "plt.show()\n",
    "\n",
    "print(\"the misclassification error for each alpha value is : \", np.round(MSE,3))"
   ]
  },
  {
   "cell_type": "code",
   "execution_count": 37,
   "metadata": {},
   "outputs": [
    {
     "name": "stdout",
     "output_type": "stream",
     "text": [
      "\n",
      "The accuracy of the Naive Bayes classifier for alpha = 480 is 84.253594%\n"
     ]
    },
    {
     "data": {
      "text/plain": [
       "Text(0.5,1,'Confusion Matrix')"
      ]
     },
     "execution_count": 37,
     "metadata": {},
     "output_type": "execute_result"
    },
    {
     "data": {
      "image/png": "[encoded data removed]",
      "text/plain": [
       "<Figure size 432x288 with 2 Axes>"
      ]
     },
     "metadata": {},
     "output_type": "display_data"
    }
   ],
   "source": [
    "#To apply MultinomialNB for above lambda value\n",
    "nb = MultinomialNB(alpha = bow_optimal_alpha)\n",
    "nb.fit(bow_text_train_vector, y_train)\n",
    "pred = nb.predict(bow_text_test_vector)\n",
    "acc = accuracy_score(y_test, pred)*100 #Evaluate accuracy\n",
    "print('\\nThe accuracy of the Naive Bayes classifier for alpha = %d is %f%%' % (bow_optimal_alpha, acc))\n",
    "conf_matrix = confusion_matrix(y_test, pred)\n",
    "confusion_matrix_df = pd.DataFrame(conf_matrix,\n",
    "                                   [\"Negative\", \"Positive\"],\\\n",
    "                                   [\"Negative\", \"Positive\"],\\\n",
    "                                   dtype=int)\n",
    "sns.heatmap(confusion_matrix_df, annot=True, fmt=\"d\")\n",
    "plt.title(\"Confusion Matrix\")"
   ]
  },
  {
   "cell_type": "code",
   "execution_count": 38,
   "metadata": {},
   "outputs": [
    {
     "name": "stdout",
     "output_type": "stream",
     "text": [
      "             precision    recall  f1-score   support\n",
      "\n",
      "   negative       0.50      0.00      0.00     14336\n",
      "   positive       0.84      1.00      0.91     76707\n",
      "\n",
      "avg / total       0.79      0.84      0.77     91043\n",
      "\n"
     ]
    }
   ],
   "source": [
    "#To show precision. recall, f1 and support vectors for MultinomialNB\n",
    "\n",
    "print(classification_report(y_test, pred, target_names = np.unique(y_test)))"
   ]
  },
  {
   "cell_type": "markdown",
   "metadata": {},
   "source": [
    "Observation :\n",
    "\n",
    "- Here we have applied Bag of words to convert text to vector.\n",
    "- We got best hyperparameter for the BernoulliNB model is 324 with accuracy 84.251398% .\n",
    "- We got best hyperparameter for the MultinomialNB model is 480 with accuracy 84.253594% .\n"
   ]
  },
  {
   "cell_type": "code",
   "execution_count": 39,
   "metadata": {},
   "outputs": [
    {
     "data": {
      "text/plain": [
       "(273128, 2436312)"
      ]
     },
     "execution_count": 39,
     "metadata": {},
     "output_type": "execute_result"
    }
   ],
   "source": [
    "#Converts train_data from text to vectors by TF_IDF\n",
    "#count_vect = CountVectorizer(analyzer='word') #in scikit-learn\n",
    "tf_idf_vect = TfidfVectorizer(ngram_range=(1,2))\n",
    "final_tf_idf_train = tf_idf_vect.fit_transform(x_train)\n",
    "final_tf_idf_train.shape\n"
   ]
  },
  {
   "cell_type": "code",
   "execution_count": 40,
   "metadata": {},
   "outputs": [
    {
     "data": {
      "text/plain": [
       "(91043, 2436312)"
      ]
     },
     "execution_count": 40,
     "metadata": {},
     "output_type": "execute_result"
    }
   ],
   "source": [
    "#Converts test_data from text to vectors by TF_IDF\n",
    "final_tf_idf_test = tf_idf_vect.transform(x_test)\n",
    "final_tf_idf_test.shape"
   ]
  },
  {
   "cell_type": "code",
   "execution_count": 41,
   "metadata": {},
   "outputs": [
    {
     "name": "stdout",
     "output_type": "stream",
     "text": [
      "chi2's statistics:  [0.03995276 0.03601368 0.00524348 ... 0.02876846 0.04075579 0.04075579]\n",
      "feature probabilities:  [0.84157297 0.84948724 0.94227415 ... 0.86531476 0.84001003 0.84001003]\n"
     ]
    }
   ],
   "source": [
    "#this code shows feautureselection\n",
    "\n",
    "a = chi2(final_tf_idf_train, y_train)\n",
    "print(\"chi2's statistics: \", a[0])\n",
    "print(\"feature probabilities: \", a[1])\n"
   ]
  },
  {
   "cell_type": "code",
   "execution_count": 44,
   "metadata": {},
   "outputs": [
    {
     "name": "stdout",
     "output_type": "stream",
     "text": [
      "The optimal value of alpha is 38.\n"
     ]
    },
    {
     "data": {
      "image/png": "[encoded data removed]",
      "text/plain": [
       "<Figure size 432x288 with 1 Axes>"
      ]
     },
     "metadata": {},
     "output_type": "display_data"
    },
    {
     "name": "stdout",
     "output_type": "stream",
     "text": [
      "the misclassification error for each alpha value is :  [0.157 0.157 0.157 0.157 0.157 0.157 0.157 0.157 0.157 0.157]\n"
     ]
    }
   ],
   "source": [
    "#find lambda for BernoulliNB and plot error\n",
    "# empty list that will hold cv scores\n",
    "cv_scores = []\n",
    "alpha_values = list(range(30,50,2))\n",
    "# perform 10-fold cross validation\n",
    "for al in alpha_values:\n",
    "    nb = BernoulliNB(alpha = al)\n",
    "    scores = cross_val_score(nb, final_tf_idf_train, \n",
    "                             y_train, cv=10, scoring='accuracy')\n",
    "    cv_scores.append(scores.mean())\n",
    "\n",
    "MSE = [1 - x for x in cv_scores]\n",
    "\n",
    "# determining best alpha\n",
    "optimal_alpha = alpha_values[MSE.index(min(MSE))]\n",
    "print('The optimal value of alpha is %d.' % optimal_alpha)\n",
    "\n",
    "# plot misclassification error vs alpha \n",
    "plt.plot(alpha_values, MSE)\n",
    "\n",
    "for xy in zip(alpha_values, np.round(MSE,3)):\n",
    "    plt.annotate('(%s, %s)' % xy, xy=xy, textcoords='data')\n",
    "\n",
    "plt.xlabel('Alpha Values')\n",
    "plt.ylabel('Misclassification Error')\n",
    "plt.show()\n",
    "\n",
    "print(\"the misclassification error for each alpha value is : \", np.round(MSE,3))"
   ]
  },
  {
   "cell_type": "code",
   "execution_count": 46,
   "metadata": {},
   "outputs": [
    {
     "name": "stdout",
     "output_type": "stream",
     "text": [
      "\n",
      "The accuracy of the Naive Bayes classifier for alpha = 38 is 84.253594%\n"
     ]
    },
    {
     "data": {
      "text/plain": [
       "Text(0.5,1,'Confusion Matrix')"
      ]
     },
     "execution_count": 46,
     "metadata": {},
     "output_type": "execute_result"
    },
    {
     "data": {
      "image/png": "[encoded data removed]",
      "text/plain": [
       "<Figure size 432x288 with 2 Axes>"
      ]
     },
     "metadata": {},
     "output_type": "display_data"
    }
   ],
   "source": [
    "#To apply BernoulliNB for above lambda value\n",
    "nb = BernoulliNB(alpha = optimal_alpha)\n",
    "nb.fit(final_tf_idf_train, y_train)\n",
    "pred = nb.predict(final_tf_idf_test)\n",
    "acc = accuracy_score(y_test, pred)*100 #Evaluate accuracy\n",
    "print('\\nThe accuracy of the Naive Bayes classifier for alpha = %d is %f%%' % (optimal_alpha, acc))\n",
    "conf_matrix = confusion_matrix(y_test, pred)\n",
    "confusion_matrix_df = pd.DataFrame(conf_matrix,\n",
    "                                   [\"Negative\", \"Positive\"],\\\n",
    "                                   [\"Negative\", \"Positive\"],\\\n",
    "                                   dtype=int)\n",
    "sns.heatmap(confusion_matrix_df, annot=True, fmt=\"d\")\n",
    "plt.title(\"Confusion Matrix\")"
   ]
  },
  {
   "cell_type": "code",
   "execution_count": 47,
   "metadata": {},
   "outputs": [
    {
     "name": "stdout",
     "output_type": "stream",
     "text": [
      "             precision    recall  f1-score   support\n",
      "\n",
      "   negative       0.00      0.00      0.00     14336\n",
      "   positive       0.84      1.00      0.91     76707\n",
      "\n",
      "avg / total       0.71      0.84      0.77     91043\n",
      "\n"
     ]
    },
    {
     "name": "stderr",
     "output_type": "stream",
     "text": [
      "C:\\Users\\pavan\\Anaconda3\\lib\\site-packages\\sklearn\\metrics\\classification.py:1135: UndefinedMetricWarning: Precision and F-score are ill-defined and being set to 0.0 in labels with no predicted samples.\n",
      "  'precision', 'predicted', average, warn_for)\n"
     ]
    }
   ],
   "source": [
    "#To show precision. recall, f1 and support vectors for BernoulliNB\n",
    "\n",
    "print(classification_report(y_test, pred, target_names = np.unique(y_test)))"
   ]
  },
  {
   "cell_type": "code",
   "execution_count": 54,
   "metadata": {},
   "outputs": [
    {
     "name": "stdout",
     "output_type": "stream",
     "text": [
      "The optimal value of alpha is 5.\n"
     ]
    },
    {
     "data": {
      "image/png": "[encoded data removed]",
      "text/plain": [
       "<Figure size 432x288 with 1 Axes>"
      ]
     },
     "metadata": {},
     "output_type": "display_data"
    },
    {
     "name": "stdout",
     "output_type": "stream",
     "text": [
      "the misclassification error for each alpha value is :  [0.157 0.157 0.157 0.157 0.157 0.157 0.157 0.157 0.157 0.157 0.157 0.157\n",
      " 0.157 0.157 0.157 0.157 0.157 0.157 0.157]\n"
     ]
    }
   ],
   "source": [
    "#find lambda for MultinomialNB and plot error\n",
    "# empty list that will hold cv scores\n",
    "cv_scores = []\n",
    "alpha_values = list(range(5,100,5))\n",
    "# perform 10-fold cross validation\n",
    "for al in alpha_values:\n",
    "    nb = MultinomialNB(alpha = al)\n",
    "    scores = cross_val_score(nb, final_tf_idf_train, \n",
    "                             y_train, cv=10, scoring='accuracy')\n",
    "    cv_scores.append(scores.mean())\n",
    "\n",
    "MSE = [1 - x for x in cv_scores]\n",
    "\n",
    "# determining best alpha\n",
    "optimal_alpha = alpha_values[MSE.index(min(MSE))]\n",
    "print('The optimal value of alpha is %d.' % optimal_alpha)\n",
    "\n",
    "# plot misclassification error vs alpha \n",
    "plt.plot(alpha_values, MSE)\n",
    "\n",
    "for xy in zip(alpha_values, np.round(MSE,3)):\n",
    "    plt.annotate('(%s, %s)' % xy, xy=xy, textcoords='data')\n",
    "\n",
    "plt.xlabel('Alpha Values')\n",
    "plt.ylabel('Misclassification Error')\n",
    "plt.show()\n",
    "\n",
    "print(\"the misclassification error for each alpha value is : \", np.round(MSE,3))"
   ]
  },
  {
   "cell_type": "code",
   "execution_count": 55,
   "metadata": {},
   "outputs": [
    {
     "name": "stdout",
     "output_type": "stream",
     "text": [
      "\n",
      "The accuracy of the Naive Bayes classifier for alpha = 5 is 84.253594%\n"
     ]
    },
    {
     "data": {
      "text/plain": [
       "Text(0.5,1,'Confusion Matrix')"
      ]
     },
     "execution_count": 55,
     "metadata": {},
     "output_type": "execute_result"
    },
    {
     "data": {
      "image/png": "[encoded data removed]",
      "text/plain": [
       "<Figure size 432x288 with 2 Axes>"
      ]
     },
     "metadata": {},
     "output_type": "display_data"
    }
   ],
   "source": [
    "#To apply MultinomialNB for above lambda value\n",
    "nb = MultinomialNB(alpha = optimal_alpha)\n",
    "nb.fit(final_tf_idf_train, y_train)\n",
    "pred = nb.predict(final_tf_idf_test)\n",
    "acc = accuracy_score(y_test, pred)*100 #Evaluate accuracy\n",
    "print('\\nThe accuracy of the Naive Bayes classifier for alpha = %d is %f%%' % (optimal_alpha, acc))\n",
    "conf_matrix = confusion_matrix(y_test, pred)\n",
    "confusion_matrix_df = pd.DataFrame(conf_matrix,\n",
    "                                   [\"Negative\", \"Positive\"],\\\n",
    "                                   [\"Negative\", \"Positive\"],\\\n",
    "                                   dtype=int)\n",
    "sns.heatmap(confusion_matrix_df, annot=True, fmt=\"d\")\n",
    "plt.title(\"Confusion Matrix\")"
   ]
  },
  {
   "cell_type": "code",
   "execution_count": 50,
   "metadata": {},
   "outputs": [
    {
     "name": "stdout",
     "output_type": "stream",
     "text": [
      "             precision    recall  f1-score   support\n",
      "\n",
      "   negative       0.00      0.00      0.00     14336\n",
      "   positive       0.84      1.00      0.91     76707\n",
      "\n",
      "avg / total       0.71      0.84      0.77     91043\n",
      "\n"
     ]
    },
    {
     "name": "stderr",
     "output_type": "stream",
     "text": [
      "C:\\Users\\pavan\\Anaconda3\\lib\\site-packages\\sklearn\\metrics\\classification.py:1135: UndefinedMetricWarning: Precision and F-score are ill-defined and being set to 0.0 in labels with no predicted samples.\n",
      "  'precision', 'predicted', average, warn_for)\n"
     ]
    }
   ],
   "source": [
    "#To show precision. recall, f1 and support vectors for BernoulliNB\n",
    "\n",
    "print(classification_report(y_test, pred, target_names = np.unique(y_test)))"
   ]
  },
  {
   "cell_type": "markdown",
   "metadata": {},
   "source": [
    "Observation :\n",
    "\n",
    "- Here we have applied TF_IDF to convert text to vector.\n",
    "- We got best hyperparameter for the BernoulliNB model is 38 with accuracy 84.253594%% .\n",
    "- We got best hyperparameter for the MultinomialNB model is 5 with accuracy 84.253594% .\n",
    "- MultinomialNB model for TF_IDF is underfitting "
   ]
  },
  {
   "cell_type": "markdown",
   "metadata": {},
   "source": [
    "Conclusion:-\n",
    "\n",
    "- BernoulliNB deals with binary classifications and MultinomialNB deals with multiclass classifications.\n",
    "- Through feature selection we can choose the important feature for our model to train on.\n",
    "- Naive Bayes method is a performance benchmark for all advanced text classification techniques."
   ]
  },
  {
   "cell_type": "code",
   "execution_count": null,
   "metadata": {},
   "outputs": [],
   "source": []
  }
 ],
 "metadata": {
  "kernelspec": {
   "display_name": "Python 3",
   "language": "python",
   "name": "python3"
  },
  "language_info": {
   "codemirror_mode": {
    "name": "ipython",
    "version": 3
   },
   "file_extension": ".py",
   "mimetype": "text/x-python",
   "name": "python",
   "nbconvert_exporter": "python",
   "pygments_lexer": "ipython3",
   "version": "3.6.5"
  }
 },
 "nbformat": 4,
 "nbformat_minor": 2
}
