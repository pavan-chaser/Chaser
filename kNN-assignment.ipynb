{
 "cells": [
  {
   "cell_type": "markdown",
   "metadata": {},
   "source": [
    "Objective:- To find the best model with highest accuracy for k-NN using amazon fine food reviews dataset."
   ]
  },
  {
   "cell_type": "code",
   "execution_count": 1,
   "metadata": {},
   "outputs": [
    {
     "name": "stderr",
     "output_type": "stream",
     "text": [
      "C:\\Users\\pavan\\Anaconda3\\lib\\site-packages\\gensim\\utils.py:1212: UserWarning: detected Windows; aliasing chunkize to chunkize_serial\n",
      "  warnings.warn(\"detected Windows; aliasing chunkize to chunkize_serial\")\n",
      "C:\\Users\\pavan\\Anaconda3\\lib\\site-packages\\sklearn\\cross_validation.py:41: DeprecationWarning: This module was deprecated in version 0.18 in favor of the model_selection module into which all the refactored classes and functions are moved. Also note that the interface of the new CV iterators are different from that of this module. This module will be removed in 0.20.\n",
      "  \"This module will be removed in 0.20.\", DeprecationWarning)\n"
     ]
    }
   ],
   "source": [
    "%matplotlib inline\n",
    "\n",
    "import warnings\n",
    "warnings.filterwarnings(\"ignore\")\n",
    "\n",
    "import sqlite3\n",
    "import pandas as pd\n",
    "import numpy as np\n",
    "import nltk\n",
    "import matplotlib.pyplot as plt\n",
    "import seaborn as sns\n",
    "from sklearn.feature_extraction.text import TfidfTransformer\n",
    "from sklearn.feature_extraction.text import TfidfVectorizer\n",
    "import re, gensim\n",
    "import string\n",
    "from nltk.corpus import stopwords\n",
    "from nltk.stem.wordnet import WordNetLemmatizer\n",
    "from sklearn.feature_extraction.text import CountVectorizer\n",
    "from sklearn.manifold import TSNE\n",
    "from sklearn.preprocessing import StandardScaler\n",
    "from sklearn.decomposition import TruncatedSVD\n",
    "from sklearn.cross_validation import train_test_split\n",
    "from sklearn.neighbors import KNeighborsClassifier\n",
    "from sklearn.metrics import accuracy_score\n",
    "from sklearn.cross_validation import cross_val_score\n",
    "from collections import Counter\n",
    "from sklearn.metrics import accuracy_score\n",
    "from sklearn import cross_validation\n",
    "from sklearn.metrics import confusion_matrix\n",
    "import os"
   ]
  },
  {
   "cell_type": "code",
   "execution_count": 2,
   "metadata": {},
   "outputs": [],
   "source": [
    "\n",
    "#choosing only positive and negative reviews not neutral reviews.\n",
    "\n",
    "# using the SQLite Table to read data.\n",
    "con = sqlite3.connect('C:\\\\Users\\\\pavan\\\\Desktop\\\\Applied AI course\\\\AmazonFineFoodReviews-I\\\\database.sqlite') \n",
    "filtered_data = pd.read_sql_query(\"\"\"SELECT * FROM Reviews WHERE Score != 3\"\"\", con) \n",
    "\n",
    "# Give reviews with Score>3 a positive rating, and reviews with a score<3 a negative rating.\n",
    "def partition(x):\n",
    "    if x < 3:\n",
    "        return 'negative'\n",
    "    return 'positive'\n",
    "\n",
    "#changing reviews with score less than 3 to be positive and vice-versa\n",
    "actualScore = filtered_data['Score']\n",
    "positiveNegative = actualScore.map(partition) \n",
    "filtered_data['Score'] = positiveNegative"
   ]
  },
  {
   "cell_type": "code",
   "execution_count": 3,
   "metadata": {},
   "outputs": [
    {
     "data": {
      "text/plain": [
       "(364171, 10)"
      ]
     },
     "execution_count": 3,
     "metadata": {},
     "output_type": "execute_result"
    }
   ],
   "source": [
    "#Removing duplicate entries\n",
    "#Sorting data according to ProductId in ascending order\n",
    "sorted_data=filtered_data.sort_values('ProductId', axis=0, ascending=True,\\\n",
    "                                      inplace=False, kind='quicksort',\\\n",
    "                                      na_position='last')\n",
    "#Deduplication of entries\n",
    "final=sorted_data.drop_duplicates(subset={\"UserId\",\"ProfileName\",\"Time\",\"Text\"},\\\n",
    "                                  keep='first', inplace=False)\n",
    "final=final[final.HelpfulnessNumerator<=final.HelpfulnessDenominator]\n",
    "final.shape"
   ]
  },
  {
   "cell_type": "code",
   "execution_count": 4,
   "metadata": {},
   "outputs": [
    {
     "data": {
      "text/plain": [
       "(30000, 10)"
      ]
     },
     "execution_count": 4,
     "metadata": {},
     "output_type": "execute_result"
    }
   ],
   "source": [
    "#Sorting data on the basis of TIME\n",
    "\n",
    "final = final[:30000]\n",
    "final = final.sort_values(by=['Time'], axis=0)\n",
    "final.shape"
   ]
  },
  {
   "cell_type": "code",
   "execution_count": 5,
   "metadata": {},
   "outputs": [],
   "source": [
    "\n",
    "\"\"\"\n",
    "This code snippet does text preprocessing\n",
    "\"\"\"\n",
    "def cleanhtml(sentence): #function to clean the word of any html-tags\n",
    "    cleanr = re.compile('<.*?>')\n",
    "    cleantext = re.sub(cleanr, ' ', sentence)\n",
    "    return cleantext\n",
    "def cleanpunc(sentence): #function to clean the word of any punctuation or special characters\n",
    "    cleaned = re.sub(r'[?|!|\\'|\"|#]',r'',sentence)\n",
    "    cleaned = re.sub(r'[.|,|)|(|\\|/]',r' ',cleaned)\n",
    "    return  cleaned\n",
    "stop = set(stopwords.words('english')) #set of stopwords\n",
    "sno = nltk.stem.SnowballStemmer('english') #initialising the snowball stemmer\n",
    "final_text = []\n",
    "for index in range(len(final['Text'])):\n",
    "    filtered_sentence=[]\n",
    "    sent=cleanhtml(final['Text'].iloc[index]) # remove HTMl tags\n",
    "    for w in sent.split():\n",
    "        for cleaned_words in cleanpunc(w).split():# clean punctuation marks from words\n",
    "            if((cleaned_words.isalpha()) & (len(cleaned_words)>2)):\n",
    "                cleaned_words = cleaned_words.lower()\n",
    "                if(cleaned_words not in stop):# blocks stopwords\n",
    "                    s=(sno.stem(cleaned_words))# stemming in process\n",
    "                    filtered_sentence.append(s)\n",
    "                else:\n",
    "                    continue\n",
    "            else:\n",
    "                continue \n",
    "    str1 = \" \".join(filtered_sentence) #final cleaned string of words\n",
    "    final_text.append(str1)"
   ]
  },
  {
   "cell_type": "code",
   "execution_count": 6,
   "metadata": {},
   "outputs": [
    {
     "name": "stdout",
     "output_type": "stream",
     "text": [
      "(30000,)\n",
      "(30000,)\n"
     ]
    }
   ],
   "source": [
    "amazon_data_text = pd.Series(final_text)\n",
    "amazon_data_label = pd.Series(final['Score'])\n",
    "print(amazon_data_text.shape)\n",
    "print(amazon_data_label.shape)"
   ]
  },
  {
   "cell_type": "code",
   "execution_count": 7,
   "metadata": {},
   "outputs": [],
   "source": [
    "\"\"\"\n",
    "Spliting sample data into train_data and test_data (70:30)\n",
    "\"\"\"\n",
    "x_train, x_test, y_train, y_test = cross_validation.train_test_split(\\\n",
    "                                                                     amazon_data_text,\\\n",
    "                                                                     amazon_data_label,\\\n",
    "                                                                     test_size = 0.30,\\\n",
    "                                                                     random_state=0)"
   ]
  },
  {
   "cell_type": "code",
   "execution_count": 8,
   "metadata": {},
   "outputs": [
    {
     "name": "stdout",
     "output_type": "stream",
     "text": [
      "positive    7622\n",
      "negative    1378\n",
      "Name: Score, dtype: int64\n"
     ]
    }
   ],
   "source": [
    "\n",
    "print(y_test.value_counts())"
   ]
  },
  {
   "cell_type": "code",
   "execution_count": 9,
   "metadata": {},
   "outputs": [
    {
     "data": {
      "text/plain": [
       "(21000, 19818)"
      ]
     },
     "execution_count": 9,
     "metadata": {},
     "output_type": "execute_result"
    }
   ],
   "source": [
    "\"\"\"\n",
    "This code snippet converts train data from text to vectors by BOW.\n",
    "\"\"\"\n",
    "count_vect = CountVectorizer(analyzer='word') #in scikit-learn\n",
    "bow_text_train_vector = count_vect.fit_transform(x_train)\n",
    "bow_text_train_vector = bow_text_train_vector\n",
    "bow_text_train_vector.shape\n"
   ]
  },
  {
   "cell_type": "code",
   "execution_count": 10,
   "metadata": {},
   "outputs": [
    {
     "name": "stdout",
     "output_type": "stream",
     "text": [
      "(9000, 19818)\n"
     ]
    }
   ],
   "source": [
    "\"\"\"\n",
    "This code snippet converts test data from text to vectors by BOW.\n",
    "\"\"\"\n",
    "bow_text_test_vector = count_vect.transform(x_test)\n",
    "bow_text_test_vector = bow_text_test_vector\n",
    "print(bow_text_test_vector.shape)"
   ]
  },
  {
   "cell_type": "code",
   "execution_count": 11,
   "metadata": {},
   "outputs": [
    {
     "name": "stdout",
     "output_type": "stream",
     "text": [
      "\n",
      "The optimal number of neighbors is 8.\n"
     ]
    },
    {
     "data": {
      "image/png": "[encoded data removed]",
      "text/plain": [
       "<Figure size 432x288 with 1 Axes>"
      ]
     },
     "metadata": {},
     "output_type": "display_data"
    },
    {
     "name": "stdout",
     "output_type": "stream",
     "text": [
      "the misclassification error for each k value is :  [0.152 0.155 0.148 0.148 0.146 0.146 0.147 0.147 0.148 0.148 0.148 0.148]\n"
     ]
    }
   ],
   "source": [
    "# empty list that will hold cv scores\n",
    "cv_scores = []\n",
    "k_values = list(range(3,15))\n",
    "# perform 10-fold cross validation\n",
    "for k in k_values:\n",
    "    knn = KNeighborsClassifier(n_neighbors=k)\n",
    "    scores = cross_val_score(knn, bow_text_train_vector, y_train, cv=10, scoring='accuracy')\n",
    "    cv_scores.append(scores.mean())\n",
    "# changing to misclassification error\n",
    "MSE = [1 - x for x in cv_scores]\n",
    "\n",
    "# determining best k\n",
    "bow_optimal_k = k_values[MSE.index(min(MSE))]\n",
    "print('\\nThe optimal number of neighbors is %d.' % bow_optimal_k)\n",
    "\n",
    "# plot misclassification error vs k \n",
    "plt.plot(k_values, MSE)\n",
    "\n",
    "for xy in zip(k_values, np.round(MSE,3)):\n",
    "    plt.annotate('(%s, %s)' % xy, xy=xy, textcoords='data')\n",
    "\n",
    "plt.xlabel('Number of Neighbors K')\n",
    "plt.ylabel('Misclassification Error')\n",
    "plt.show()\n",
    "\n",
    "print(\"the misclassification error for each k value is : \", np.round(MSE,3))"
   ]
  },
  {
   "cell_type": "code",
   "execution_count": 12,
   "metadata": {},
   "outputs": [
    {
     "name": "stdout",
     "output_type": "stream",
     "text": [
      "\n",
      "The accuracy of the knn classifier for k = 8 is 84.955556%\n"
     ]
    }
   ],
   "source": [
    "#Apply k-NN for BoW(brute force)\n",
    "\n",
    "# Instantiate learning model\n",
    "knn_brute = KNeighborsClassifier(n_neighbors= bow_optimal_k, algorithm = 'brute')\n",
    "# fitting the model\n",
    "knn_brute.fit(bow_text_train_vector, y_train)\n",
    "# response prediction\n",
    "pred = knn_brute.predict(bow_text_test_vector)\n",
    "# evaluate accuracy\n",
    "acc = accuracy_score(y_test, pred)*100\n",
    "print('\\nThe accuracy of the knn classifier for k = %d is %f%%' % (bow_optimal_k, acc))\n"
   ]
  },
  {
   "cell_type": "code",
   "execution_count": 13,
   "metadata": {},
   "outputs": [
    {
     "name": "stderr",
     "output_type": "stream",
     "text": [
      "C:\\Users\\pavan\\Anaconda3\\lib\\site-packages\\sklearn\\neighbors\\base.py:212: UserWarning: cannot use tree with sparse input: using brute force\n",
      "  warnings.warn(\"cannot use tree with sparse input: \"\n"
     ]
    },
    {
     "name": "stdout",
     "output_type": "stream",
     "text": [
      "\n",
      "The accuracy of the knn classifier for k = 8 is 84.955556%\n"
     ]
    }
   ],
   "source": [
    "#Apply k-NN for BoW(kd tree)\n",
    "\n",
    "# Instantiate learning model\n",
    "knn_brute = KNeighborsClassifier(n_neighbors= bow_optimal_k, algorithm = 'kd_tree')\n",
    "# fitting the model\n",
    "knn_brute.fit(bow_text_train_vector, y_train)\n",
    "# response prediction\n",
    "pred = knn_brute.predict(bow_text_test_vector)\n",
    "# evaluate accuracy\n",
    "acc = accuracy_score(y_test, pred)*100\n",
    "print('\\nThe accuracy of the knn classifier for k = %d is %f%%' % (bow_optimal_k, acc))\n"
   ]
  },
  {
   "cell_type": "markdown",
   "metadata": {},
   "source": [
    "Observation:-\n",
    "- Here we applied Bag of Words to convert text to vector\n",
    "- Here we got best hyperparameter for k-NN modl is 8\n",
    "- After applying the above hyperparameter in k-NN we got accuracy of 84.955556%."
   ]
  },
  {
   "cell_type": "code",
   "execution_count": 14,
   "metadata": {},
   "outputs": [
    {
     "data": {
      "text/plain": [
       "(21000, 430451)"
      ]
     },
     "execution_count": 14,
     "metadata": {},
     "output_type": "execute_result"
    }
   ],
   "source": [
    "#Converts train data from text to vectors by TF_IDF.\n",
    "\n",
    "tf_idf_vect = TfidfVectorizer(ngram_range=(1,2))\n",
    "final_tf_idf_train = tf_idf_vect.fit_transform(x_train)\n",
    "final_tf_idf_train.shape"
   ]
  },
  {
   "cell_type": "code",
   "execution_count": 15,
   "metadata": {},
   "outputs": [
    {
     "data": {
      "text/plain": [
       "(9000, 430451)"
      ]
     },
     "execution_count": 15,
     "metadata": {},
     "output_type": "execute_result"
    }
   ],
   "source": [
    "#Converts test data from text to vectors by TF_IDF.\n",
    "\n",
    "final_tf_idf_test = tf_idf_vect.transform(x_test)\n",
    "final_tf_idf_test.shape"
   ]
  },
  {
   "cell_type": "code",
   "execution_count": 16,
   "metadata": {},
   "outputs": [
    {
     "name": "stdout",
     "output_type": "stream",
     "text": [
      "\n",
      "The optimal number of neighbors is 10.\n"
     ]
    },
    {
     "data": {
      "image/png": "[encoded data removed]",
      "text/plain": [
       "<Figure size 432x288 with 1 Axes>"
      ]
     },
     "metadata": {},
     "output_type": "display_data"
    },
    {
     "name": "stdout",
     "output_type": "stream",
     "text": [
      "the misclassification error for each k value is :  [0.146 0.159 0.141 0.142 0.136 0.136 0.136 0.134 0.138 0.135 0.138 0.136]\n"
     ]
    }
   ],
   "source": [
    "# empty list that will hold cv scores\n",
    "cv_scores = []\n",
    "k_values = list(range(3,15))\n",
    "# perform 10-fold cross validation\n",
    "for k in k_values:\n",
    "    knn = KNeighborsClassifier(n_neighbors=k)\n",
    "    scores = cross_val_score(knn, final_tf_idf_train, y_train, cv=10, scoring='accuracy')\n",
    "    cv_scores.append(scores.mean())\n",
    "# changing to misclassification error\n",
    "MSE = [1 - x for x in cv_scores]\n",
    "\n",
    "# determining best k\n",
    "tf_idf_optimal_k = k_values[MSE.index(min(MSE))]\n",
    "print('\\nThe optimal number of neighbors is %d.' % tf_idf_optimal_k)\n",
    "\n",
    "# plot misclassification error vs k \n",
    "plt.plot(k_values, MSE)\n",
    "\n",
    "for xy in zip(k_values, np.round(MSE,3)):\n",
    "    plt.annotate('(%s, %s)' % xy, xy=xy, textcoords='data')\n",
    "\n",
    "plt.xlabel('Number of Neighbors K')\n",
    "plt.ylabel('Misclassification Error')\n",
    "plt.show()\n",
    "print(\"the misclassification error for each k value is : \", np.round(MSE,3))"
   ]
  },
  {
   "cell_type": "code",
   "execution_count": 17,
   "metadata": {},
   "outputs": [
    {
     "name": "stdout",
     "output_type": "stream",
     "text": [
      "\n",
      "The accuracy of the knn classifier for k = 10 is 86.344444%\n"
     ]
    }
   ],
   "source": [
    "#Apply k-NN for tf_idf(brute force)\n",
    "\n",
    "# Instantiate learning model\n",
    "knn_brute = KNeighborsClassifier(n_neighbors= tf_idf_optimal_k, algorithm = 'brute')\n",
    "# fitting the model\n",
    "knn_brute.fit(final_tf_idf_train, y_train)\n",
    "# response prediction\n",
    "pred = knn_brute.predict(final_tf_idf_test)\n",
    "# evaluate accuracy\n",
    "acc = accuracy_score(y_test, pred)*100\n",
    "print('\\nThe accuracy of the knn classifier for k = %d is %f%%' % (tf_idf_optimal_k, acc))\n"
   ]
  },
  {
   "cell_type": "code",
   "execution_count": 18,
   "metadata": {},
   "outputs": [
    {
     "name": "stderr",
     "output_type": "stream",
     "text": [
      "C:\\Users\\pavan\\Anaconda3\\lib\\site-packages\\sklearn\\neighbors\\base.py:212: UserWarning: cannot use tree with sparse input: using brute force\n",
      "  warnings.warn(\"cannot use tree with sparse input: \"\n"
     ]
    },
    {
     "name": "stdout",
     "output_type": "stream",
     "text": [
      "\n",
      "The accuracy of the knn classifier for k = 10 is 86.344444%\n"
     ]
    }
   ],
   "source": [
    "#Apply k-NN for tf_idf(kd tree)\n",
    "\n",
    "# Instantiate learning model\n",
    "kd_tree = KNeighborsClassifier(n_neighbors= tf_idf_optimal_k, algorithm = 'kd_tree')\n",
    "# fitting the model\n",
    "kd_tree.fit(final_tf_idf_train, y_train)\n",
    "# response prediction\n",
    "pred = kd_tree.predict(final_tf_idf_test)\n",
    "# evaluate accuracy\n",
    "acc = accuracy_score(y_test, pred)*100\n",
    "print('\\nThe accuracy of the knn classifier for k = %d is %f%%' % (tf_idf_optimal_k, acc))\n"
   ]
  },
  {
   "cell_type": "markdown",
   "metadata": {},
   "source": [
    "Observation:-\n",
    "- Here we applied tf-idf to convert text to vector.\n",
    "- Here we got best hyperparameter for the k-NN model is 10.\n",
    "- After applying above hyperparameter in k-NN we got accuracy of 86.240000%."
   ]
  },
  {
   "cell_type": "code",
   "execution_count": 19,
   "metadata": {},
   "outputs": [],
   "source": [
    "\n",
    "#Creating own vocabulary of words from reviews.\n",
    "\n",
    "i=0\n",
    "list_of_train_sent=[]\n",
    "for sent in x_train:\n",
    "    filtered_sentence=[]\n",
    "    sent=cleanhtml(sent)\n",
    "    for w in sent.split():\n",
    "        for cleaned_words in cleanpunc(w).split():\n",
    "            if(cleaned_words.isalpha()):    \n",
    "                filtered_sentence.append(cleaned_words.lower())\n",
    "            else:\n",
    "                continue \n",
    "    list_of_train_sent.append(filtered_sentence)\n",
    "w2v_train_model=gensim.models.Word2Vec(list_of_train_sent,min_count=5,size=50, workers=4)\n",
    "i=0\n",
    "list_of_test_sent=[]\n",
    "for sent in x_test:\n",
    "    filtered_sentence=[]\n",
    "    sent=cleanhtml(sent)\n",
    "    for w in sent.split():\n",
    "        for cleaned_words in cleanpunc(w).split():\n",
    "            if(cleaned_words.isalpha()):    \n",
    "                filtered_sentence.append(cleaned_words.lower())\n",
    "            else:\n",
    "                continue \n",
    "    list_of_test_sent.append(filtered_sentence)\n",
    "w2v_test_model=gensim.models.Word2Vec(list_of_test_sent,min_count=5,size=50, workers=4)"
   ]
  },
  {
   "cell_type": "code",
   "execution_count": 20,
   "metadata": {},
   "outputs": [
    {
     "data": {
      "text/plain": [
       "(21000, 50)"
      ]
     },
     "execution_count": 20,
     "metadata": {},
     "output_type": "execute_result"
    }
   ],
   "source": [
    "#Converts train data from text to vectors by Average Word2Vec\n",
    "\n",
    "# compute average word2vec for each review.\n",
    "tain_vectors = []; # the avg-w2v for each sentence/review is stored in this list\n",
    "for sent in list_of_train_sent: # for each review/sentence\n",
    "    sent_vec = np.zeros(50) # as word vectors are of zero length\n",
    "    cnt_words =0; # num of words with a valid vector in the sentence/review\n",
    "    for word in sent: # for each word in a review/sentence\n",
    "        try:\n",
    "            vec = w2v_train_model.wv[word]\n",
    "            sent_vec += vec\n",
    "            cnt_words += 1\n",
    "        except:\n",
    "            pass\n",
    "    if cnt_words == 0:\n",
    "        cnt_words = 1\n",
    "    sent_vec /= cnt_words\n",
    "    tain_vectors.append(sent_vec)\n",
    "train_avg_w2v = np.asmatrix(tain_vectors)\n",
    "train_avg_w2v.shape"
   ]
  },
  {
   "cell_type": "code",
   "execution_count": 21,
   "metadata": {},
   "outputs": [
    {
     "data": {
      "text/plain": [
       "(9000, 50)"
      ]
     },
     "execution_count": 21,
     "metadata": {},
     "output_type": "execute_result"
    }
   ],
   "source": [
    "#Converts test data from text to vectors by Average Word2Vec\n",
    "\n",
    "# compute average word2vec for each review.\n",
    "test_vectors = []; # the avg-w2v for each sentence.\n",
    "for sent in list_of_test_sent: \n",
    "    sent_vec = np.zeros(50) # as word vectors are of zero length\n",
    "    cnt_words =0; \n",
    "    for word in sent: # for each word in a review/sentence\n",
    "        try:\n",
    "            vec = w2v_test_model.wv[word]\n",
    "            sent_vec += vec\n",
    "            cnt_words += 1\n",
    "        except:\n",
    "            pass\n",
    "    if cnt_words == 0:\n",
    "        cnt_words = 1\n",
    "    sent_vec /= cnt_words\n",
    "    test_vectors.append(sent_vec)\n",
    "test_avg_w2v = np.asmatrix(test_vectors)\n",
    "test_avg_w2v.shape"
   ]
  },
  {
   "cell_type": "code",
   "execution_count": 22,
   "metadata": {},
   "outputs": [
    {
     "name": "stdout",
     "output_type": "stream",
     "text": [
      "\n",
      "The optimal number of neighbors is 14.\n"
     ]
    },
    {
     "data": {
      "image/png": "[encoded data removed]",
      "text/plain": [
       "<Figure size 432x288 with 1 Axes>"
      ]
     },
     "metadata": {},
     "output_type": "display_data"
    },
    {
     "name": "stdout",
     "output_type": "stream",
     "text": [
      "the misclassification error for each k value is :  [0.157 0.17  0.145 0.15  0.14  0.142 0.138 0.14  0.138 0.139 0.138 0.138]\n"
     ]
    }
   ],
   "source": [
    "# empty list that will hold cv scores\n",
    "cv_scores = []\n",
    "k_values = list(range(3,15))\n",
    "# perform 10-fold cross validation\n",
    "for k in k_values:\n",
    "    knn = KNeighborsClassifier(n_neighbors=k)\n",
    "    scores = cross_val_score(knn, train_avg_w2v, y_train, cv= 10, scoring='accuracy')\n",
    "    cv_scores.append(scores.mean())\n",
    "# changing to misclassification error\n",
    "MSE = [1 - x for x in cv_scores]\n",
    "\n",
    "# determining best k\n",
    "optimal_k = k_values[MSE.index(min(MSE))]\n",
    "print('\\nThe optimal number of neighbors is %d.' % optimal_k)\n",
    "\n",
    "# plot misclassification error vs k \n",
    "plt.plot(k_values, MSE)\n",
    "\n",
    "for xy in zip(k_values, np.round(MSE,3)):\n",
    "    plt.annotate('(%s, %s)' % xy, xy=xy, textcoords='data')\n",
    "\n",
    "plt.xlabel('Number of Neighbors K')\n",
    "plt.ylabel('Misclassification Error')\n",
    "plt.show()\n",
    "print(\"the misclassification error for each k value is : \", np.round(MSE,3))"
   ]
  },
  {
   "cell_type": "code",
   "execution_count": 23,
   "metadata": {},
   "outputs": [
    {
     "name": "stdout",
     "output_type": "stream",
     "text": [
      "\n",
      "The accuracy of the knn classifier for k = 14 is 83.077778%\n"
     ]
    }
   ],
   "source": [
    "#Apply k-NN for avg_w2vec(brute force)\n",
    "\n",
    "# Instantiate learning model\n",
    "knn_brute = KNeighborsClassifier(n_neighbors= optimal_k, algorithm = 'brute')\n",
    "# fitting the model\n",
    "knn_brute.fit(train_avg_w2v, y_train)\n",
    "# response prediction\n",
    "pred = knn_brute.predict(test_avg_w2v)\n",
    "# evaluate accuracy\n",
    "acc = accuracy_score(y_test, pred)*100\n",
    "print('\\nThe accuracy of the knn classifier for k = %d is %f%%' % (optimal_k, acc))\n"
   ]
  },
  {
   "cell_type": "code",
   "execution_count": 24,
   "metadata": {},
   "outputs": [
    {
     "name": "stdout",
     "output_type": "stream",
     "text": [
      "\n",
      "The accuracy of the knn classifier for k = 14 is 83.077778%\n"
     ]
    }
   ],
   "source": [
    "#Apply k-NN for avg_w2vec(kd tree)\n",
    "\n",
    "# Instantiate learning model\n",
    "kd_tree = KNeighborsClassifier(n_neighbors= optimal_k, algorithm = 'kd_tree')\n",
    "# fitting the model\n",
    "kd_tree.fit(train_avg_w2v, y_train)\n",
    "# response prediction\n",
    "pred = kd_tree.predict(test_avg_w2v)\n",
    "# evaluate accuracy\n",
    "acc = accuracy_score(y_test, pred)*100\n",
    "print('\\nThe accuracy of the knn classifier for k = %d is %f%%' % (optimal_k, acc))\n"
   ]
  },
  {
   "cell_type": "markdown",
   "metadata": {},
   "source": [
    "- Here we applied average word2vec to convert text to vector.\n",
    "- Here we got best hyperparameter for the k-NN model is 13.\n",
    "- After applying above hyperparameter in k-NN we got accuracy of 82.6266667%."
   ]
  },
  {
   "cell_type": "markdown",
   "metadata": {},
   "source": [
    "Conclusion:-\n",
    "    - From the above analysis with 30000 sample data points, So I got that TF-IDF is best accuracy with 86.240000%."
   ]
  },
  {
   "cell_type": "code",
   "execution_count": null,
   "metadata": {},
   "outputs": [],
   "source": []
  }
 ],
 "metadata": {
  "kernelspec": {
   "display_name": "Python 3",
   "language": "python",
   "name": "python3"
  },
  "language_info": {
   "codemirror_mode": {
    "name": "ipython",
    "version": 3
   },
   "file_extension": ".py",
   "mimetype": "text/x-python",
   "name": "python",
   "nbconvert_exporter": "python",
   "pygments_lexer": "ipython3",
   "version": "3.6.5"
  }
 },
 "nbformat": 4,
 "nbformat_minor": 2
}
